{
 "cells": [
  {
   "cell_type": "code",
   "execution_count": 1,
   "metadata": {},
   "outputs": [],
   "source": [
    "import cv2\n",
    "import numpy as np\n",
    "import dlib"
   ]
  },
  {
   "cell_type": "code",
   "execution_count": 2,
   "metadata": {},
   "outputs": [],
   "source": [
    "from skimage import io\n",
    "from scipy.spatial import distance"
   ]
  },
  {
   "cell_type": "code",
   "execution_count": 3,
   "metadata": {},
   "outputs": [],
   "source": [
    "cap = cv2.VideoCapture(0)"
   ]
  },
  {
   "cell_type": "code",
   "execution_count": 4,
   "metadata": {},
   "outputs": [],
   "source": [
    "img = io.imread('Test.jpg') # here we get test image"
   ]
  },
  {
   "cell_type": "code",
   "execution_count": 5,
   "metadata": {},
   "outputs": [],
   "source": [
    "detector = dlib.get_frontal_face_detector()\n",
    "predictor = dlib.shape_predictor(\"shape_predictor_68_face_landmarks.dat\")\n",
    "facerec = dlib.face_recognition_model_v1('dlib_face_recognition_resnet_model_v1.dat')"
   ]
  },
  {
   "cell_type": "code",
   "execution_count": 6,
   "metadata": {},
   "outputs": [],
   "source": [
    "dets = detector(img, 1) #in next build change \"img\" to descriptor from pic"
   ]
  },
  {
   "cell_type": "code",
   "execution_count": 7,
   "metadata": {},
   "outputs": [],
   "source": [
    "for k, d in enumerate(dets):\n",
    "    shape = predictor(img, d)"
   ]
  },
  {
   "cell_type": "code",
   "execution_count": 8,
   "metadata": {},
   "outputs": [],
   "source": [
    "face_descriptor1 = facerec.compute_face_descriptor(img, shape)"
   ]
  },
  {
   "cell_type": "code",
   "execution_count": null,
   "metadata": {},
   "outputs": [
    {
     "name": "stdout",
     "output_type": "stream",
     "text": [
      "Get lost!\n",
      "Get lost!\n",
      "Get lost!\n",
      "Get lost!\n",
      "Get lost!\n",
      "Get lost!\n",
      "Get lost!\n",
      "Get lost!\n",
      "Get lost!\n",
      "Get lost!\n",
      "Get lost!\n",
      "Get lost!\n",
      "Get lost!\n",
      "Get lost!\n",
      "Get lost!\n",
      "Get lost!\n",
      "Get lost!\n",
      "Get lost!\n",
      "Get lost!\n",
      "Get lost!\n",
      "Get lost!\n",
      "I know you!\n",
      "I know you!\n",
      "Get lost!\n",
      "I know you!\n",
      "Get lost!\n",
      "Get lost!\n",
      "Get lost!\n",
      "Get lost!\n",
      "Get lost!\n",
      "Get lost!\n",
      "Get lost!\n",
      "Get lost!\n",
      "Get lost!\n",
      "Get lost!\n",
      "Get lost!\n",
      "Get lost!\n",
      "Get lost!\n",
      "Get lost!\n",
      "Get lost!\n",
      "Get lost!\n",
      "Get lost!\n",
      "Get lost!\n",
      "Get lost!\n",
      "Get lost!\n",
      "Get lost!\n",
      "Get lost!\n",
      "Get lost!\n",
      "Get lost!\n",
      "Get lost!\n",
      "Get lost!\n",
      "I know you!\n",
      "Get lost!\n",
      "Get lost!\n",
      "Get lost!\n",
      "Get lost!\n",
      "Get lost!\n",
      "Get lost!\n",
      "Get lost!\n",
      "Get lost!\n",
      "Get lost!\n",
      "Get lost!\n",
      "Get lost!\n",
      "Get lost!\n",
      "Get lost!\n",
      "Get lost!\n",
      "Get lost!\n",
      "Get lost!\n",
      "Get lost!\n",
      "Get lost!\n",
      "Get lost!\n",
      "Get lost!\n",
      "Get lost!\n",
      "Get lost!\n",
      "Get lost!\n",
      "Get lost!\n",
      "Get lost!\n",
      "Get lost!\n",
      "Get lost!\n",
      "Get lost!\n",
      "Get lost!\n",
      "Get lost!\n",
      "Get lost!\n",
      "Get lost!\n",
      "Get lost!\n",
      "Get lost!\n",
      "Get lost!\n",
      "Get lost!\n",
      "Get lost!\n",
      "Get lost!\n",
      "Get lost!\n",
      "Get lost!\n",
      "Get lost!\n",
      "Get lost!\n",
      "Get lost!\n",
      "Get lost!\n",
      "Get lost!\n",
      "Get lost!\n",
      "Get lost!\n",
      "Get lost!\n",
      "Get lost!\n",
      "Get lost!\n",
      "Get lost!\n",
      "Get lost!\n",
      "Get lost!\n",
      "Get lost!\n",
      "Get lost!\n",
      "Get lost!\n",
      "Get lost!\n",
      "Get lost!\n",
      "Get lost!\n",
      "Get lost!\n",
      "Get lost!\n",
      "Get lost!\n",
      "Get lost!\n",
      "Get lost!\n",
      "Get lost!\n",
      "Get lost!\n",
      "Get lost!\n"
     ]
    }
   ],
   "source": [
    "while True:\n",
    "    _, frame = cap.read() #get frame from camera\n",
    "    gray = cv2.cvtColor(frame, cv2.COLOR_BGR2GRAY)\n",
    "\n",
    "    #faces = detector(gray)\n",
    "    #for face in faces:\n",
    "        #x1 = face.left()\n",
    "        #y1 = face.top()\n",
    "        #x2 = face.right()\n",
    "        #y2 = face.bottom()\n",
    "        #cv2.rectangle(frame, (x1, y1), (x2, y2), (0, 255, 0), 3)\n",
    "\n",
    "        #landmarks = predictor(gray, face)\n",
    "\n",
    "        #for n in range(0, 68):\n",
    "           # x = landmarks.part(n).x\n",
    "            #y = landmarks.part(n).y\n",
    "           # cv2.circle(frame, (x, y), 4, (255, 0, 0), -1)\n",
    "\n",
    "\n",
    "    cv2.imshow(\"Camera\", frame) #show frame\n",
    "    \n",
    "    #nothing much just from now we call frame is img\n",
    "    img = frame\n",
    "    dets_webcam = detector(img,1) \n",
    "    for k, d in enumerate(dets_webcam): \n",
    "        shape = predictor(img, d)\n",
    "    face_descriptor2 = facerec.compute_face_descriptor(img, shape)\n",
    "    # First FaceDescriptor minus second FaceDescriptor (allmost)\n",
    "    a = distance.euclidean(face_descriptor1, face_descriptor2)\n",
    "    if a<0.55:\n",
    "        print(\"I know you!\")\n",
    "    else:\n",
    "        print(\"Get lost!\")\n",
    "    \n",
    "    #esc to end this\n",
    "    key = cv2.waitKey(1)\n",
    "    if key == 27:\n",
    "        break"
   ]
  },
  {
   "cell_type": "code",
   "execution_count": null,
   "metadata": {},
   "outputs": [],
   "source": []
  }
 ],
 "metadata": {
  "kernelspec": {
   "display_name": "Python 3",
   "language": "python",
   "name": "python3"
  },
  "language_info": {
   "codemirror_mode": {
    "name": "ipython",
    "version": 3
   },
   "file_extension": ".py",
   "mimetype": "text/x-python",
   "name": "python",
   "nbconvert_exporter": "python",
   "pygments_lexer": "ipython3",
   "version": "3.6.9"
  }
 },
 "nbformat": 4,
 "nbformat_minor": 4
}
